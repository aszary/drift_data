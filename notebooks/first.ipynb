{
 "cells": [
  {
   "cell_type": "code",
   "execution_count": 1,
   "metadata": {},
   "outputs": [],
   "source": [
    "# adding project path\n",
    "import os\n",
    "import sys\n",
    "path = os.getcwd().replace(\"notebooks\", \"\") # main project path # can be set manually\n",
    "os.chdir(path) # set working directory (to find data etc.)\n",
    "sys.path.insert(0, path)\n"
   ]
  },
  {
   "cell_type": "code",
   "execution_count": 2,
   "metadata": {},
   "outputs": [
    {
     "name": "stderr",
     "output_type": "stream",
     "text": [
      "/home/szary/.local/lib/python3.8/site-packages/numpy/ma/core.py:4075: FutureWarning: elementwise comparison failed; returning scalar instead, but in the future will perform elementwise comparison\n",
      "  check = compare(sdata, odata)\n"
     ]
    },
    {
     "name": "stdout",
     "output_type": "stream",
     "text": [
      "Error for  MP_C1_F4 keyword\n",
      "Error for  MP_C1_F5 keyword\n",
      "Error for  MP_C2_F4 keyword\n",
      "Error for  MP_C2_F5 keyword\n"
     ]
    },
    {
     "data": {
      "text/html": [
       "<i>Table length=99</i>\n",
       "<table id=\"table140597563772736\" class=\"table-striped table-bordered table-condensed\">\n",
       "<thead><tr><th>PSRJ</th><th>PSRB</th><th>$\\dot E$</th></tr></thead>\n",
       "<thead><tr><th>str11</th><th>str9</th><th>float64</th></tr></thead>\n",
       "<tr><td>J0134-2937</td><td>*</td><td>1.2e+33</td></tr>\n",
       "<tr><td>J0455-6951</td><td>B0456-69</td><td>1.23e+34</td></tr>\n",
       "<tr><td>J0519-6932</td><td>*</td><td>1.51e+33</td></tr>\n",
       "<tr><td>J0738-4042</td><td>B0736-40</td><td>1.03e+33</td></tr>\n",
       "<tr><td>J0809-4753</td><td>B0808-47</td><td>7.41e+32</td></tr>\n",
       "<tr><td>J0905-6019</td><td>*</td><td>5.2e+32</td></tr>\n",
       "<tr><td>J0922+0638</td><td>B0919+06</td><td>6.79e+33</td></tr>\n",
       "<tr><td>J1000-5149</td><td>*</td><td>2.27e+33</td></tr>\n",
       "<tr><td>J1012-5857</td><td>B1011-58</td><td>1.27e+33</td></tr>\n",
       "<tr><td>J1046-5813</td><td>B1044-57</td><td>8.98e+32</td></tr>\n",
       "<tr><td>...</td><td>...</td><td>...</td></tr>\n",
       "<tr><td>J1827-0750</td><td>*</td><td>3.08e+33</td></tr>\n",
       "<tr><td>J1833-0338</td><td>B1831-03</td><td>5.07e+33</td></tr>\n",
       "<tr><td>J1847-0402</td><td>B1844-04</td><td>9.55e+33</td></tr>\n",
       "<tr><td>J1852-0635</td><td>*</td><td>4.01e+33</td></tr>\n",
       "<tr><td>J1856-0526</td><td>*</td><td>1.32e+33</td></tr>\n",
       "<tr><td>J1901+0156</td><td>B1859+01</td><td>3.89e+33</td></tr>\n",
       "<tr><td>J1910+0728</td><td>*</td><td>9.52e+33</td></tr>\n",
       "<tr><td>J1922+1733</td><td>*</td><td>4.01e+34</td></tr>\n",
       "<tr><td>J1224-6407</td><td>B1221-63</td><td>1.93e+34</td></tr>\n",
       "<tr><td>J1537-4912</td><td>*</td><td>2.79e+33</td></tr>\n",
       "</table>"
      ],
      "text/plain": [
       "<Table length=99>\n",
       "   PSRJ      PSRB   $\\dot E$\n",
       "  str11      str9   float64 \n",
       "---------- -------- --------\n",
       "J0134-2937        *  1.2e+33\n",
       "J0455-6951 B0456-69 1.23e+34\n",
       "J0519-6932        * 1.51e+33\n",
       "J0738-4042 B0736-40 1.03e+33\n",
       "J0809-4753 B0808-47 7.41e+32\n",
       "J0905-6019        *  5.2e+32\n",
       "J0922+0638 B0919+06 6.79e+33\n",
       "J1000-5149        * 2.27e+33\n",
       "J1012-5857 B1011-58 1.27e+33\n",
       "J1046-5813 B1044-57 8.98e+32\n",
       "       ...      ...      ...\n",
       "J1827-0750        * 3.08e+33\n",
       "J1833-0338 B1831-03 5.07e+33\n",
       "J1847-0402 B1844-04 9.55e+33\n",
       "J1852-0635        * 4.01e+33\n",
       "J1856-0526        * 1.32e+33\n",
       "J1901+0156 B1859+01 3.89e+33\n",
       "J1910+0728        * 9.52e+33\n",
       "J1922+1733        * 4.01e+34\n",
       "J1224-6407 B1221-63 1.93e+34\n",
       "J1537-4912        * 2.79e+33"
      ]
     },
     "metadata": {},
     "output_type": "display_data"
    }
   ],
   "source": [
    "import modules.data as da\n",
    "import modules.plot as pl\n",
    "\n",
    "d = da.high_edot2(\"data/stats.csv\")\n",
    "#da.latexify(d)\n",
    "display(d)"
   ]
  },
  {
   "cell_type": "code",
   "execution_count": null,
   "metadata": {},
   "outputs": [],
   "source": []
  },
  {
   "cell_type": "code",
   "execution_count": null,
   "metadata": {},
   "outputs": [],
   "source": []
  }
 ],
 "metadata": {
  "kernelspec": {
   "display_name": "Python 3",
   "language": "python",
   "name": "python3"
  },
  "language_info": {
   "codemirror_mode": {
    "name": "ipython",
    "version": 3
   },
   "file_extension": ".py",
   "mimetype": "text/x-python",
   "name": "python",
   "nbconvert_exporter": "python",
   "pygments_lexer": "ipython3",
   "version": "3.8.2"
  }
 },
 "nbformat": 4,
 "nbformat_minor": 4
}
